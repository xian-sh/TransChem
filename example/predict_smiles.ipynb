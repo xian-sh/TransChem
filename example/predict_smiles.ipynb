{
 "cells": [
  {
   "cell_type": "markdown",
   "source": [
    "### Input a single smiles or a smiles list, then run all cells\n",
    "\n",
    "Input Example 1:  '[CH2]C1=CC=CC=C1'\n",
    "\n",
    "Input Example 2: ['[CH2]C1=CC=CC=C1', 'C[C](C)C1=CC=CC=C1', 'C1([C]C2=CC=CC=C2)=CC=CC=C1', 'C[C](C)C']"
   ],
   "metadata": {
    "collapsed": false
   }
  },
  {
   "cell_type": "code",
   "execution_count": 1,
   "outputs": [],
   "source": [
    "# input\n",
    "smiles=['[CH2]C1=CC=CC=C1', 'C[C](C)C1=CC=CC=C1', 'C1([C]C2=CC=CC=C2)=CC=CC=C1', 'C[C](C)C']\n",
    "\n",
    "# set save dir path\n",
    "pred_path = './predict_smiles.csv'\n",
    "# set model path\n",
    "model_path = r'G:\\sz_code\\TransChem\\model_weight\\model.pt'"
   ],
   "metadata": {
    "collapsed": false,
    "ExecuteTime": {
     "start_time": "2023-11-23T23:19:10.022151Z",
     "end_time": "2023-11-23T23:19:10.042150Z"
    }
   }
  },
  {
   "cell_type": "code",
   "execution_count": 2,
   "outputs": [
    {
     "data": {
      "text/plain": "   index                       smiles  pred\n0      0             [CH2]C1=CC=CC=C1 -0.01\n1      1           C[C](C)C1=CC=CC=C1  0.07\n2      3                     C[C](C)C  0.05\n3      2  C1([C]C2=CC=CC=C2)=CC=CC=C1  0.05",
      "text/html": "<div>\n<style scoped>\n    .dataframe tbody tr th:only-of-type {\n        vertical-align: middle;\n    }\n\n    .dataframe tbody tr th {\n        vertical-align: top;\n    }\n\n    .dataframe thead th {\n        text-align: right;\n    }\n</style>\n<table border=\"1\" class=\"dataframe\">\n  <thead>\n    <tr style=\"text-align: right;\">\n      <th></th>\n      <th>index</th>\n      <th>smiles</th>\n      <th>pred</th>\n    </tr>\n  </thead>\n  <tbody>\n    <tr>\n      <th>0</th>\n      <td>0</td>\n      <td>[CH2]C1=CC=CC=C1</td>\n      <td>-0.01</td>\n    </tr>\n    <tr>\n      <th>1</th>\n      <td>1</td>\n      <td>C[C](C)C1=CC=CC=C1</td>\n      <td>0.07</td>\n    </tr>\n    <tr>\n      <th>2</th>\n      <td>3</td>\n      <td>C[C](C)C</td>\n      <td>0.05</td>\n    </tr>\n    <tr>\n      <th>3</th>\n      <td>2</td>\n      <td>C1([C]C2=CC=CC=C2)=CC=CC=C1</td>\n      <td>0.05</td>\n    </tr>\n  </tbody>\n</table>\n</div>"
     },
     "execution_count": 2,
     "metadata": {},
     "output_type": "execute_result"
    }
   ],
   "source": [
    "import pandas as pd\n",
    "from sklearn.metrics import r2_score\n",
    "import torch\n",
    "from src.transformer import make_model\n",
    "from src.featurization.data_utils import load_data_from_smiles, construct_loader\n",
    "from src.utils import setup_logger, test\n",
    "import os\n",
    "os.environ['CUDA_LAUNCH_BLOCKING'] = '1'\n",
    "import logging\n",
    "logger = logging.getLogger('TransChem')\n",
    "logger.setLevel(logging.DEBUG)\n",
    "\n",
    "# 创建文件处理器\n",
    "file_handler = logging.FileHandler('predict_smiles.log')\n",
    "file_handler.setLevel(logging.DEBUG)\n",
    "formatter = logging.Formatter('%(asctime)s - %(levelname)s - %(message)s')\n",
    "file_handler.setFormatter(formatter)\n",
    "logger.addHandler(file_handler)\n",
    "logger.propagate = False\n",
    "\n",
    "logger.info('-' * 60)\n",
    "\n",
    "if isinstance(smiles, str):\n",
    "    smiles = [smiles]\n",
    "test_X, test_y = load_data_from_smiles(smiles, [1.0]*len(smiles), norm_lap=False, add_dummy_node=True, one_hot_formal_charge=True)\n",
    "test_loader = construct_loader(test_X, test_y, batch_size=1)\n",
    "test_d_atom = test_X[0][0].shape[1]  # It depends on the used featurization.\n",
    "\n",
    "logger.info(f'The test dataset contains {len(test_X)} samples.')\n",
    "\n",
    "model_params = {\n",
    "        'd_atom': 34,\n",
    "        'd_model': 1024,\n",
    "        'N': 8,\n",
    "        'h': 16,\n",
    "        'N_dense': 1,\n",
    "        'trainable_lambda': False,\n",
    "        'lambda_attention': 0.5,\n",
    "        'lambda_distance': 0.,\n",
    "        'leaky_relu_slope': 0.1,\n",
    "        'dense_output_nonlinearity': 'relu',\n",
    "        'distance_matrix_kernel': 'exp',\n",
    "        'dropout': 0.1,\n",
    "        'aggregation_type': 'mean'\n",
    "}\n",
    "\n",
    "model = make_model(**model_params)\n",
    "pretrained_state_dict = torch.load(model_path)\n",
    "logger.info(\"loading pretrained weights from {}\".format(model_path))\n",
    "model_state_dict = model.state_dict()\n",
    "for name, param in pretrained_state_dict.items():\n",
    "    if 'generator' in name:\n",
    "        continue\n",
    "    if isinstance(param, torch.nn.Parameter):\n",
    "        param = param.data\n",
    "    model_state_dict[name].copy_(param)\n",
    "\n",
    "\n",
    "logger.info('Start predict...')\n",
    "\n",
    "mse, mae, rmse, y, pred, smile = test(model, test_loader)\n",
    "r_2 = r2_score(y.cpu().numpy(), pred.cpu().numpy())\n",
    "ratio_02 = (torch.abs(y - pred) <= 0.2).sum() / y.size(0)\n",
    "ratio_01 = (torch.abs(y - pred) <= 0.1).sum() / y.size(0)\n",
    "\n",
    "logger.info(\"test result:\\n\"\n",
    "                \"MAE: {mae:.8f}\\n\"\n",
    "                \"RMSE: {rmse:.8f}\\n\"\n",
    "                \"R_2: {r_2:.5f}\\n\"\n",
    "                \"Ratio_02: {ratio_02:.5f}\\n\"\n",
    "                \"Ratio_01: {ratio_01:.5f}\\n\".format(mae=mae, rmse=rmse, r_2=r_2, ratio_02=ratio_02, ratio_01=ratio_01)\n",
    "                )\n",
    "\n",
    "smiles_ls = []\n",
    "y_ls = []\n",
    "pred_ls = []\n",
    "smiles_ls.extend(smile.cpu().tolist())\n",
    "y_ls.extend(y.cpu().tolist())\n",
    "pred_ls.extend(pred.cpu().tolist())\n",
    "\n",
    "pred_data = {\n",
    "        'index': smiles_ls,\n",
    "        'smiles': [smiles[x] for x in smiles_ls],\n",
    "        # 'y': y_ls,\n",
    "        'pred': pred_ls,\n",
    "}\n",
    "pred_df = pd.DataFrame(pred_data)\n",
    "pred_df['pred'] = pred_df['pred'].apply(lambda x: round(x, 2))\n",
    "pred_df.to_csv(pred_path, index=False)\n",
    "pred_df"
   ],
   "metadata": {
    "collapsed": false,
    "ExecuteTime": {
     "start_time": "2023-11-23T23:19:10.049150Z",
     "end_time": "2023-11-23T23:19:13.272863Z"
    }
   }
  }
 ],
 "metadata": {
  "kernelspec": {
   "display_name": "Python 3",
   "language": "python",
   "name": "python3"
  },
  "language_info": {
   "codemirror_mode": {
    "name": "ipython",
    "version": 2
   },
   "file_extension": ".py",
   "mimetype": "text/x-python",
   "name": "python",
   "nbconvert_exporter": "python",
   "pygments_lexer": "ipython2",
   "version": "2.7.6"
  }
 },
 "nbformat": 4,
 "nbformat_minor": 0
}
